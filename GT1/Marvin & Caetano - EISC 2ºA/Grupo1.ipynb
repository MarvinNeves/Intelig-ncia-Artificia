{
 "cells": [
  {
   "cell_type": "code",
   "execution_count": 53,
   "metadata": {},
   "outputs": [
    {
     "name": "stdout",
     "output_type": "stream",
     "text": [
      "Insira o seu nome: Marvin\n",
      "Insira a sua idade: 19\n",
      "Marvin tem a idade de 19 anos idade.\n"
     ]
    }
   ],
   "source": [
    "#Exer1\n",
    "\n",
    "nome = input(\"Insira o seu nome: \")\n",
    "idade = input(\"Insira a sua idade: \")\n",
    "print(f'{nome} tem a idade de {idade} anos idade.')"
   ]
  },
  {
   "cell_type": "code",
   "execution_count": 54,
   "metadata": {},
   "outputs": [
    {
     "name": "stdout",
     "output_type": "stream",
     "text": [
      "[20, 21, 22, 23, 24, 25, 26, 27, 28, 29, 30, 31, 32, 33, 34, 35, 36, 37, 38, 39, 40, 41, 42, 43, 44, 45, 46, 47, 48, 49, 50]\n",
      "39.5\n",
      "2820\n"
     ]
    }
   ],
   "source": [
    "import statistics\n",
    "\n",
    "#Exer2\n",
    "\n",
    "#Criar sequencia de numeros 20.. 50\n",
    "sequencia = range(20, 51, 1)\n",
    "print(list(sequencia))\n",
    "\n",
    "#Criar sequencia de numeros 20.. 60 e mostrar valor médio\n",
    "media = range(20, 60, 1)\n",
    "print(statistics.mean(media))\n",
    "\n",
    "#Criar sequencia de numeros 51.. 91 e mostrar soma dos elementos\n",
    "soma_elem = range(51, 91, 1)\n",
    "print(sum(soma_elem))\n"
   ]
  },
  {
   "cell_type": "code",
   "execution_count": 55,
   "metadata": {},
   "outputs": [
    {
     "name": "stdout",
     "output_type": "stream",
     "text": [
      "[-46, 32, 31, 36, -43, -4, 13, 43, -11, -31]\n"
     ]
    }
   ],
   "source": [
    "import random\n",
    "\n",
    "#Exer3\n",
    "\n",
    "#Escreva um programa em R para criar um vetor que contenha 10 valores inteiros aleatórios entre -50 e +50.\n",
    "#Nos tentamos fazer esse exercicio em python.\n",
    "\n",
    "L = range(-50, 50, 1)\n",
    "n = random.sample(L, 10)\n",
    "print(n)\n"
   ]
  },
  {
   "cell_type": "code",
   "execution_count": 56,
   "metadata": {},
   "outputs": [
    {
     "name": "stdout",
     "output_type": "stream",
     "text": [
      "1\n",
      "841\n"
     ]
    }
   ],
   "source": [
    "#Exer4\n",
    "\n",
    "#Criar programa que encontra o max value e o min value\n",
    "\n",
    "lista = [1, 54,64,841,81,95]\n",
    "print(min(lista))\n",
    "print(max(lista))"
   ]
  },
  {
   "cell_type": "code",
   "execution_count": 57,
   "metadata": {
    "scrolled": true
   },
   "outputs": [
    {
     "name": "stdout",
     "output_type": "stream",
     "text": [
      "[[4 1 7]\n",
      " [5 2 8]\n",
      " [6 3 9]]\n"
     ]
    }
   ],
   "source": [
    "import numpy as np\n",
    "\n",
    "\n",
    "#Exer5\n",
    "\n",
    "#Criar programa que cria 3 vectores com 3 inteiros, depois combinar os 3 para ficar com uma matriz 3x3 em que cada coluna  representa um vector. E mostrar a matriz\n",
    "\n",
    "a = np.array([4, 1, 7])\n",
    "b = np.array([5, 2, 8])\n",
    "c = np.array([6, 3, 9])\n",
    "\n",
    "matriz = np.array([a,b,c])\n",
    "print(matriz)\n"
   ]
  },
  {
   "cell_type": "code",
   "execution_count": 47,
   "metadata": {
    "scrolled": false
   },
   "outputs": [
    {
     "name": "stdout",
     "output_type": "stream",
     "text": [
      "Matriz 5x4: \n",
      "[[ 1  2  3  4]\n",
      " [ 5  6  7  8]\n",
      " [ 9 10 11 12]\n",
      " [13 14 15 16]\n",
      " [17 18 19 20]]\n",
      "Matriz 3x3: \n",
      "[[21 22 23]\n",
      " [24 25 26]\n",
      " [27 18 29]]\n",
      "Matriz 2x2: \n",
      "[[30 31]\n",
      " [32 33]]\n",
      "Matriz 2x2 preenchido por coluna: \n",
      "[[30, 32], [31, 33]]\n"
     ]
    }
   ],
   "source": [
    "import numpy as np\n",
    "\n",
    "#Exer6\n",
    "\n",
    "#Criar programa que cria um matris 5x4, 3x3 matriz com preenchimento automatico de linhas e matriz 2x2 com etiquetas e preencha por coluna\n",
    "\n",
    "#Matrix 5x4 created\n",
    "print('Matriz 5x4: ')\n",
    "matriz_5_por_4 = np.arange(1, 21).reshape((5, 4))\n",
    "print(matriz_5_por_4)\n",
    "\n",
    "#Matrix 3x3 automaticamente filled\n",
    "print('Matriz 3x3: ')\n",
    "matriz_3_por_3 = np.array([[21, 22, 23], [24, 25, 26], [27, 18, 29]])\n",
    "print(matriz_3_por_3)\n",
    "\n",
    "#Matrix 2x2 with label filled with columns\n",
    "print('Matriz 2x2: ')\n",
    "matriz_2_por_2 = np.array([[30, 31], [32, 33]])\n",
    "print(matriz_2_por_2)\n",
    "\n",
    "print('Matriz 2x2 preenchido por coluna: ')\n",
    "print([[columas[i] for columas in matriz_2_por_2] for i in range(2)])"
   ]
  },
  {
   "cell_type": "code",
   "execution_count": 75,
   "metadata": {},
   "outputs": [
    {
     "name": "stdout",
     "output_type": "stream",
     "text": [
      "[[10 11 12]\n",
      " [13 14 15]\n",
      " [16 17 18]\n",
      " [19 20 21]]\n",
      "         Coluna 1  Coluna 2  Coluna 3\n",
      "Linha 1        10        11        12\n",
      "Linha 2        13        14        15\n",
      "Linha 3        16        17        18\n",
      "Linha 4        19        20        21\n"
     ]
    }
   ],
   "source": [
    "import pandas as pd\n",
    "\n",
    "#Exer7\n",
    "\n",
    "#Write a program to create an array, passing in a vector of values and a vector of dimensions. Also provide names for each dimension.\n",
    "\n",
    "matriz_4_por_3 = np.arange(10, 22).reshape(4, 3)\n",
    "print(matriz_4_por_3)\n",
    "linhas = ['Linha 1','Linha 2','Linha 3', 'Linha 4']\n",
    "tabela = pd.DataFrame(matriz_4_por_3, index = linhas, columns = ('Coluna 1','Coluna 2','Coluna 3'))\n",
    "print(tabela)\n"
   ]
  },
  {
   "cell_type": "code",
   "execution_count": 7,
   "metadata": {},
   "outputs": [
    {
     "name": "stdout",
     "output_type": "stream",
     "text": [
      "[(array([[3, 4],\n",
      "       [5, 6]]), [(1, 2)], 20)]\n"
     ]
    }
   ],
   "source": [
    "import numpy as np\n",
    "\n",
    "#Exer8\n",
    "\n",
    "#Write a program to create a list of elements using vectors, matrices and a functions. Print the content of the list.\n",
    "\n",
    "vetor = [(1, 2)]\n",
    "matriz = np.arange(3, 7).reshape(2, 2)\n",
    "funcao = 4 * 5\n",
    "lista = [(matriz, vetor, funcao)]\n",
    "print(lista)\n"
   ]
  },
  {
   "cell_type": "code",
   "execution_count": 82,
   "metadata": {},
   "outputs": [
    {
     "name": "stdout",
     "output_type": "stream",
     "text": [
      "Tabela de clientes nos seguintes meses: \n"
     ]
    },
    {
     "data": {
      "image/png": "[encoded data removed]",
      "text/plain": [
       "<Figure size 432x288 with 1 Axes>"
      ]
     },
     "metadata": {
      "needs_background": "light"
     },
     "output_type": "display_data"
    }
   ],
   "source": [
    "import seaborn as sbn\n",
    "\n",
    "#Exer9\n",
    "\n",
    "#Write a program to create a simple bar plot of five subjects marks.\n",
    "\n",
    "print('Tabela de clientes nos seguintes meses: ')\n",
    "y = [15, 24, 35, 32, 40]\n",
    "x = ['Outubro', 'Novembro', 'Dezembro', 'Janeiro', 'Fevereiro']\n",
    "grafico = sbn.barplot(x=x, y=y)\n"
   ]
  },
  {
   "cell_type": "code",
   "execution_count": 79,
   "metadata": {},
   "outputs": [
    {
     "name": "stdout",
     "output_type": "stream",
     "text": [
      "      NOME  SALARIO\n",
      "0     João     2661\n",
      "1   Miguel    15164\n",
      "2  Gonçalo     6515\n"
     ]
    }
   ],
   "source": [
    "#Exer10\n",
    "\n",
    "#Write a program to create a Dataframes which contain details of 5 employees and display the details.\n",
    "lista = {'NOME': ['João', 'Miguel', 'Gonçalo'], 'SALARIO': [2661, 15164, 6515]}\n",
    "\n",
    "tabela = pd.DataFrame(lista)\n",
    "print(tabela)\n"
   ]
  },
  {
   "cell_type": "code",
   "execution_count": 89,
   "metadata": {},
   "outputs": [
    {
     "name": "stdout",
     "output_type": "stream",
     "text": [
      "15\n",
      "3.0\n",
      "120\n"
     ]
    }
   ],
   "source": [
    "import numpy as np\n",
    "\n",
    "#Exer11\n",
    "\n",
    "#Write a program to compute sum, mean and product of a given vector elements\n",
    "\n",
    "lista = np.array([1, 2, 3, 4, 5])\n",
    "\n",
    "soma = sum(lista)\n",
    "print(soma)\n",
    "\n",
    "media = lista.mean()\n",
    "print(media)\n",
    "\n",
    "produto = np.product(lista)\n",
    "print(produto)\n"
   ]
  }
 ],
 "metadata": {
  "kernelspec": {
   "display_name": "Python 3",
   "language": "python",
   "name": "python3"
  },
  "language_info": {
   "codemirror_mode": {
    "name": "ipython",
    "version": 3
   },
   "file_extension": ".py",
   "mimetype": "text/x-python",
   "name": "python",
   "nbconvert_exporter": "python",
   "pygments_lexer": "ipython3",
   "version": "3.8.5"
  }
 },
 "nbformat": 4,
 "nbformat_minor": 4
}
